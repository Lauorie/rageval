{
  "cells": [
    {
      "cell_type": "markdown",
      "id": "2c142cfb-78f5-4126-8f67-b1735786473b",
      "metadata": {
        "id": "2c142cfb-78f5-4126-8f67-b1735786473b"
      },
      "source": [
        "# 生成 RAG SFT 数据集\n",
        "\n"
      ]
    },
    {
      "cell_type": "markdown",
      "id": "13666ed4-1d44-43d3-a59e-b0db38cf4520",
      "metadata": {
        "id": "13666ed4-1d44-43d3-a59e-b0db38cf4520"
      },
      "source": [
        "## 1. 环境搭建\n",
        "使用 langchain 对 PDF 进行分块，后期考虑用 MinerU 进行提取文本"
      ]
    },
    {
      "cell_type": "code",
      "execution_count": null,
      "id": "24b2f16b-e59a-4155-92c1-dde7eee6f2f7",
      "metadata": {
        "colab": {
          "base_uri": "https://localhost:8080/"
        },
        "id": "24b2f16b-e59a-4155-92c1-dde7eee6f2f7",
        "outputId": "2ac90309-2ac0-4dba-bd02-213438735d3f",
        "tags": []
      },
      "outputs": [],
      "source": [
        "%pip install -q langchain==0.1.10 pypdf pandas tqdm openai"
      ]
    },
    {
      "cell_type": "markdown",
      "id": "a65bb4a4-bc7e-4db7-9cce-2062494cfb95",
      "metadata": {
        "id": "a65bb4a4-bc7e-4db7-9cce-2062494cfb95"
      },
      "source": [
        "## 2. PDF 准备\n",
        "读取文件夹中的文件，提取文本，设置 chunk_size 和 chunk_overlap 进行分块"
      ]
    },
    {
      "cell_type": "code",
      "execution_count": 2,
      "id": "00371a36-ceef-44fe-828a-95489bf7bae0",
      "metadata": {
        "colab": {
          "base_uri": "https://localhost:8080/",
          "height": 385
        },
        "id": "00371a36-ceef-44fe-828a-95489bf7bae0",
        "outputId": "fef13e81-6353-49ff-91ab-534884c9d3c7",
        "tags": []
      },
      "outputs": [],
      "source": [
        "from langchain.text_splitter import RecursiveCharacterTextSplitter\n",
        "from langchain.document_loaders.pdf import PyPDFDirectoryLoader\n",
        "\n",
        "\n",
        "# Load PDF documents from directory\n",
        "loader = PyPDFDirectoryLoader(\"/root/app/langchain_data_gen/pdf\")\n",
        "# extract evey page of pdf\n",
        "documents = loader.load()\n",
        "\n",
        "# Use recursive character splitter, works better for this PDF data set\n",
        "text_splitter = RecursiveCharacterTextSplitter(\n",
        "\n",
        "    # Split documents into small chunks\n",
        "    chunk_size = 500,\n",
        "\n",
        "    # Overlap chunks to reduce cutting sentences in half\n",
        "    chunk_overlap  = 100,\n",
        "    separators=[\"\\n\\n\", \"\\n\", \"。\", \"！\", \"？\", \"；\"],\n",
        "\n",
        ")\n",
        "\n",
        "# Split loaded documents into chunks\n",
        "docs = text_splitter.split_documents(documents)"
      ]
    },
    {
      "cell_type": "code",
      "execution_count": null,
      "id": "ec78a214",
      "metadata": {},
      "outputs": [],
      "source": [
        "documents"
      ]
    },
    {
      "cell_type": "markdown",
      "id": "949c9c3a-915c-495b-8fac-8b1cfe97e4b3",
      "metadata": {
        "id": "949c9c3a-915c-495b-8fac-8b1cfe97e4b3"
      },
      "source": [
        "### 打印分块后的文档长度"
      ]
    },
    {
      "cell_type": "code",
      "execution_count": 52,
      "id": "831439b9-f018-4f2c-91e1-0bd4ec58b8f9",
      "metadata": {
        "id": "831439b9-f018-4f2c-91e1-0bd4ec58b8f9",
        "tags": []
      },
      "outputs": [
        {
          "name": "stdout",
          "output_type": "stream",
          "text": [
            "已加载 278 篇文档,平均每块字符数为 496。\n",
            "分割后共有 443 个文本块。\n",
            "分割后的 443 个文本块平均字符数为 343。\n"
          ]
        }
      ],
      "source": [
        "avg_doc_length = lambda documents: sum([len(doc.page_content) for doc in documents])//len(documents)\n",
        "avg_char_count_pre = avg_doc_length(documents)\n",
        "avg_char_count_post = avg_doc_length(docs)\n",
        "\n",
        "print(f'已加载 {len(documents)} 篇文档,平均每块字符数为 {avg_char_count_pre}。')\n",
        "print(f'分割后共有 {len(docs)} 个文本块。') \n",
        "print(f'分割后的 {len(docs)} 个文本块平均字符数为 {avg_char_count_post}。')"
      ]
    },
    {
      "cell_type": "markdown",
      "id": "3ee23ad4",
      "metadata": {},
      "source": [
        "### 自定义一个 OpenAI 类，用于调用 LLM 生成数据\n"
      ]
    },
    {
      "cell_type": "code",
      "execution_count": 17,
      "id": "cf8a98a0",
      "metadata": {},
      "outputs": [
        {
          "name": "stdout",
          "output_type": "stream",
          "text": [
            "Hello! How can I assist you today?\n"
          ]
        }
      ],
      "source": [
        "from openai import OpenAI\n",
        "\n",
        "class CustomOpenAI(OpenAI):\n",
        "    def invoke(self, prompt):\n",
        "        response = self.chat.completions.create(\n",
        "            model=\"deepseek-chat\",\n",
        "            messages=[\n",
        "                {\"role\": \"user\", \"content\": prompt}\n",
        "            ]\n",
        "        )\n",
        "        return response.choices[0].message.content\n",
        "\n",
        "# 使用示例\n",
        "api_key=\"sk-bba63edb9a2545a2b1b7567329c427\"\n",
        "base_url=\"https://api.deepseek.com\"\n",
        "\n",
        "llm = CustomOpenAI(api_key=api_key,base_url=base_url)\n",
        "result = llm.invoke(\"你好\")\n",
        "print(result)"
      ]
    },
    {
      "cell_type": "code",
      "execution_count": 18,
      "id": "a8103b4b",
      "metadata": {},
      "outputs": [
        {
          "data": {
            "text/plain": [
              "'要获取今天的天气信息，您可以查看当地的天气预报或使用天气应用程序。通常，天气预报会提供温度、降水概率、风速和天气状况（如晴、多云、雨等）的详细信息。如果您能提供具体的城市或地区名称，我可以尝试为您查找相关的天气信息。'"
            ]
          },
          "execution_count": 18,
          "metadata": {},
          "output_type": "execute_result"
        }
      ],
      "source": [
        "llm.invoke(\"今天天气怎么样？\")"
      ]
    },
    {
      "cell_type": "markdown",
      "id": "32aaba95-a7fa-4c09-81f1-90f826246109",
      "metadata": {
        "id": "32aaba95-a7fa-4c09-81f1-90f826246109"
      },
      "source": [
        "## 3. 生成问题\n",
        "\n",
        "根据上下文中提供的信息生成生成单个问题，可以要求 LLM 通过提示生成多个、按我们需求的问题\n"
      ]
    },
    {
      "cell_type": "code",
      "execution_count": 8,
      "id": "4457b697-468a-44b2-a1c8-ba92ddbd4632",
      "metadata": {
        "id": "4457b697-468a-44b2-a1c8-ba92ddbd4632",
        "tags": []
      },
      "outputs": [],
      "source": [
        "from langchain.prompts import PromptTemplate\n",
        "\n",
        "# Create a prompt template to generate a question a end-user could have about a given context\n",
        "initial_question_prompt_template = PromptTemplate(\n",
        "    input_variables=[\"context\"],\n",
        "    template=\"\"\"\\\n",
        "<Instructions>\n",
        "Here is some context:\n",
        "<context>\n",
        "{context}\n",
        "</context>\n",
        "\n",
        "Your task is to generate 1 question that can be answered using the provided context, following these rules:\n",
        "\n",
        "<rules>\n",
        "1. The question should make sense to humans even when read without the given context.\n",
        "2. The question should be fully answered from the given context.\n",
        "3. The question should be framed from a part of context that contains important information. It can also be from tables, code, etc.\n",
        "4. The answer to the question should not contain any links.\n",
        "5. The question should be of moderate difficulty.\n",
        "6. The question must be reasonable and must be understood and responded by humans.\n",
        "7. Do not use phrases like 'provided context', etc. in the question.\n",
        "8. Avoid framing questions using the word \"and\" that can be decomposed into more than one question.\n",
        "9. The question should not contain more than 20 words, make use of abbreviations wherever possible.\n",
        "10. The question should be in Chinese.\n",
        "</rules>\n",
        "\n",
        "To generate the question, first identify the most important or relevant part of the context. Then frame a question around that part that satisfies all the rules above.\n",
        "\n",
        "Output only the generated question, no other text or characters.\n",
        "</Instructions>\n",
        "\n",
        "\"\"\")\n",
        "\n",
        "def generate_question(doc, llm):\n",
        "\n",
        "    # Pass in values to the input variables\n",
        "    initial_question_prompt = initial_question_prompt_template.format(context=doc)\n",
        "\n",
        "    initial_question = llm.invoke(initial_question_prompt)\n",
        "\n",
        "    return initial_question"
      ]
    },
    {
      "cell_type": "code",
      "execution_count": 10,
      "id": "e1a7a00f",
      "metadata": {},
      "outputs": [
        {
          "data": {
            "text/plain": [
              "Document(metadata={'source': '/root/app/langchain_data_gen/pdf/小米SU7用户手册.pdf', 'page': 2}, page_content='导言 \\n前言\\n敬告用户\\n尊敬的用户，感谢您选择小米汽车 SU7 车型（以下简称“SU7”）。SU7 是一款 C 级豪华科技\\n轿车，在您使用 SU7 的过程中，小米汽车将竭力为您提供贴心周到的服务。\\n在使用 SU7 前请您务必仔细阅读《用户手册》，尤其是“危险”、“注意”、“说明”等提示信\\n息。通过《用户手册》您可以了解车辆功能、装备以及车辆维护和定期保养等信息，能够更\\n好地帮助您安全驾驶车辆和延长车辆使用寿命。\\n您可以通过以下方式查阅 SU7《用户手册》：\\n• 登录小米汽车官网。\\n• 登录手机端小米汽车 APP。\\n• 进入车辆中控屏“用户手册”APP。\\n小米汽车及其关联公司拥有本手册全部信息（包括文字、图片、音视频、网页、图表、数据\\n等）的所有权利，包括但不限于著作权（包括计算机软件著作权）、专利权、商标权、服务\\n标记、域名、商业秘密等。未经小米汽车的事先书面同意，您不能自行实施利用、转让或许\\n可任何第三方实施、更改上述权利，您亦不能修改、复制、复印、提取、重新发布、转载、\\n翻译本手册的内容。\\n小米汽车可能出于遵守法律法规、保障安全等考量或为了提升您的驾乘体验，对车辆及相关')"
            ]
          },
          "execution_count": 10,
          "metadata": {},
          "output_type": "execute_result"
        }
      ],
      "source": [
        "docs[1]"
      ]
    },
    {
      "cell_type": "code",
      "execution_count": 20,
      "id": "122d6c90-18f0-4ae3-8843-37b31bf9db7b",
      "metadata": {
        "id": "122d6c90-18f0-4ae3-8843-37b31bf9db7b",
        "tags": []
      },
      "outputs": [
        {
          "name": "stdout",
          "output_type": "stream",
          "text": [
            "Intial question: 如何查阅小米汽车SU7的《用户手册》？\n"
          ]
        }
      ],
      "source": [
        "# generate a question based on a given context\n",
        "question = generate_question(docs[1], llm)\n",
        "print(f\"Intial question: {question}\")"
      ]
    },
    {
      "cell_type": "code",
      "execution_count": 21,
      "id": "466639dd",
      "metadata": {
        "id": "466639dd"
      },
      "outputs": [
        {
          "name": "stdout",
          "output_type": "stream",
          "text": [
            "如何查阅小米汽车SU7的《用户手册》？\n"
          ]
        }
      ],
      "source": [
        "print(question)"
      ]
    },
    {
      "cell_type": "markdown",
      "id": "7b5e8a8e-c8a1-487a-8d12-3ce024f67a69",
      "metadata": {
        "id": "7b5e8a8e-c8a1-487a-8d12-3ce024f67a69"
      },
      "source": [
        "## 4. 生成答案"
      ]
    },
    {
      "cell_type": "code",
      "execution_count": 22,
      "id": "72ca873f-ddd2-4b51-987d-5524d198c56c",
      "metadata": {
        "id": "72ca873f-ddd2-4b51-987d-5524d198c56c",
        "tags": []
      },
      "outputs": [],
      "source": [
        "# Create a prompt template that takes into consideration the the question and generates an answer\n",
        "answer_prompt_template = PromptTemplate(\n",
        "    input_variables=[\"context\", \"question\"],\n",
        "    template=\"\"\"\n",
        "    <Instructions>\n",
        "    <Task>\n",
        "    <role>You are an experienced QA Engineer for building large language model applications.</role>\n",
        "    <task>It is your task to generate an answer to the following question <question>{question}</question> only based on the <context>{context}</context></task>\n",
        "    The output should be only the answer generated from the context.\n",
        "\n",
        "    <rules>\n",
        "    1. Only use the given context as a source for generating the answer.\n",
        "    2. Be as precise as possible with answering the question.\n",
        "    3. Be concise in answering the question and only answer the question at hand rather than adding extra information.\n",
        "    4. The answer should be in Chinese.\n",
        "    </rules>\n",
        "\n",
        "    Only output the generated answer. No extra characters.\n",
        "    </Task>\n",
        "    </Instructions>\n",
        "\n",
        "    Assistant:\"\"\")\n",
        "\n",
        "def generate_answer(question: str, doc, llm):\n",
        "\n",
        "    answer_prompt = answer_prompt_template.format(question = question, context=doc)\n",
        "\n",
        "    answer = llm.invoke(answer_prompt)\n",
        "\n",
        "    return answer"
      ]
    },
    {
      "cell_type": "code",
      "execution_count": 23,
      "id": "ffceef3c-9f53-4143-b5c9-0b80f3e6d182",
      "metadata": {
        "id": "ffceef3c-9f53-4143-b5c9-0b80f3e6d182",
        "tags": []
      },
      "outputs": [
        {
          "name": "stdout",
          "output_type": "stream",
          "text": [
            "Intial question: 如何查阅小米汽车SU7的《用户手册》？\n",
            "---\n",
            "Reference Answer: 您可以通过以下方式查阅小米汽车SU7的《用户手册》：\n",
            "• 登录小米汽车官网。\n",
            "• 登录手机端小米汽车 APP。\n",
            "• 进入车辆中控屏“用户手册”APP。\n"
          ]
        }
      ],
      "source": [
        "answer = generate_answer(question, docs[1], llm)\n",
        "print(f\"Intial question: {question}\")\n",
        "print(\"---\")\n",
        "print(f\"Reference Answer: {answer}\")"
      ]
    },
    {
      "cell_type": "markdown",
      "id": "da3ddc9b-f409-4655-a943-361939fa4946",
      "metadata": {
        "id": "da3ddc9b-f409-4655-a943-361939fa4946",
        "tags": []
      },
      "source": [
        "## 5. 提取相关句子\n",
        "从给定上下文中提取与答案相关句子"
      ]
    },
    {
      "cell_type": "code",
      "execution_count": 24,
      "id": "c64d1f19-d1af-4317-b9cb-e4142700939d",
      "metadata": {
        "id": "c64d1f19-d1af-4317-b9cb-e4142700939d",
        "tags": []
      },
      "outputs": [],
      "source": [
        "# To check whether an answer was correctly formulated by the large language model you get the relevant text passages from the documents used for answering the questions.\n",
        "source_prompt_template = PromptTemplate(\n",
        "    input_variables=[\"context\", \"question\"],\n",
        "    template=\"\"\"Human:\n",
        "    <Instructions>\n",
        "    Here is the context:\n",
        "    <context>\n",
        "    {context}\n",
        "    </context>\n",
        "\n",
        "    Your task is to extract the relevant sentences from the given context that can potentially help answer the following question. You are not allowed to make any changes to the sentences from the context.\n",
        "\n",
        "    <question>\n",
        "    {question}\n",
        "    </question>\n",
        "\n",
        "    Output only the relevant sentences you found, one sentence per line, without any extra characters or explanations.\n",
        "    </Instructions>\n",
        "    Assistant:\"\"\")\n",
        "\n",
        "def generate_source(question: str, doc, llm):\n",
        "\n",
        "    source_prompt = source_prompt_template.format(question = question, context=doc)\n",
        "\n",
        "    source = llm.invoke(source_prompt)\n",
        "\n",
        "    return source"
      ]
    },
    {
      "cell_type": "code",
      "execution_count": 25,
      "id": "008571ba-6cde-40a0-833b-0348d54e9a1e",
      "metadata": {
        "id": "008571ba-6cde-40a0-833b-0348d54e9a1e",
        "tags": []
      },
      "outputs": [
        {
          "name": "stdout",
          "output_type": "stream",
          "text": [
            "Intial question: 如何查阅小米汽车SU7的《用户手册》？\n",
            "---\n",
            "Reference Answer: 您可以通过以下方式查阅小米汽车SU7的《用户手册》：\n",
            "• 登录小米汽车官网。\n",
            "• 登录手机端小米汽车 APP。\n",
            "• 进入车辆中控屏“用户手册”APP。\n",
            "---\n",
            "Source Sentence: 您可以通过以下方式查阅 SU7《用户手册》：\n",
            "• 登录小米汽车官网。\n",
            "• 登录手机端小米汽车 APP。\n",
            "• 进入车辆中控屏“用户手册”APP。\n"
          ]
        }
      ],
      "source": [
        "source_sentence = generate_source(question, docs[1], llm)\n",
        "print(f\"Intial question: {question}\")\n",
        "print(\"---\")\n",
        "print(f\"Reference Answer: {answer}\")\n",
        "print(\"---\")\n",
        "print(f\"Source Sentence: {source_sentence}\")"
      ]
    },
    {
      "cell_type": "markdown",
      "id": "f45065c6-7387-42fe-878d-884f6d297499",
      "metadata": {
        "id": "f45065c6-7387-42fe-878d-884f6d297499"
      },
      "source": [
        "## 6. 生成更简洁的问题-模拟用户行为\n",
        "\n",
        "当根据整个数据集的相同提示生成问题和答案对时，问题可能会出现重复、形式相似，因此不会模仿真实的最终用户行为。我们将改进现有的生成问题，例如使其更短、更精确。"
      ]
    },
    {
      "cell_type": "code",
      "execution_count": 26,
      "id": "2ea6c408-6395-4d8a-b217-a1a45bae02e5",
      "metadata": {
        "id": "2ea6c408-6395-4d8a-b217-a1a45bae02e5",
        "tags": []
      },
      "outputs": [],
      "source": [
        "# To generate a more versatile testing dataset you alternate the questions to see how your RAG systems performs against differently formulated of questions\n",
        "question_compress_prompt_template = PromptTemplate(\n",
        "    input_variables=[\"question\"],\n",
        "    template=\"\"\"\n",
        "    <Instructions>\n",
        "    <role>You are an experienced linguistics expert for building testsets for large language model applications.</role>\n",
        "\n",
        "    <task>It is your task to rewrite the following question in a more indirect and compressed form, following these rules:\n",
        "\n",
        "    <rules>\n",
        "    1. Make the question more indirect\n",
        "    2. Make the question shorter\n",
        "    3. Use abbreviations if possible\n",
        "    </rules>\n",
        "\n",
        "    <question>\n",
        "    {question}\n",
        "    </question>\n",
        "\n",
        "    Your output should only be the rewritten question with a question mark \"?\" at the end. Do not provide any other explanation or text.\n",
        "    </task>\n",
        "    </Instructions>\n",
        "\n",
        "    \"\"\")\n",
        "\n",
        "\n",
        "def compress_question(question):\n",
        "    # Pass in values to the input variables\n",
        "    question_compress_prompt = question_compress_prompt_template.format(question=question)\n",
        "\n",
        "    question_compressed = llm.invoke(question_compress_prompt)\n",
        "\n",
        "    return question_compressed"
      ]
    },
    {
      "cell_type": "code",
      "execution_count": 28,
      "id": "d5b05eb8-d9da-42b9-8b00-e69f9fc79907",
      "metadata": {
        "id": "d5b05eb8-d9da-42b9-8b00-e69f9fc79907",
        "tags": []
      },
      "outputs": [
        {
          "name": "stdout",
          "output_type": "stream",
          "text": [
            "Intial question: 如何查阅小米汽车SU7的《用户手册》？\n",
            "---\n",
            "Reference Answer: 您可以通过以下方式查阅小米汽车SU7的《用户手册》：\n",
            "• 登录小米汽车官网。\n",
            "• 登录手机端小米汽车 APP。\n",
            "• 进入车辆中控屏“用户手册”APP。\n",
            "---\n",
            "Source Sentence: 您可以通过以下方式查阅 SU7《用户手册》：\n",
            "• 登录小米汽车官网。\n",
            "• 登录手机端小米汽车 APP。\n",
            "• 进入车辆中控屏“用户手册”APP。\n",
            "---\n",
            "Compressed Question: 小米SU7手册怎么查？\n"
          ]
        }
      ],
      "source": [
        "compressed_question = compress_question(question)\n",
        "print(f\"Intial question: {question}\")\n",
        "print(\"---\")\n",
        "print(f\"Reference Answer: {answer}\")\n",
        "print(\"---\")\n",
        "print(f\"Source Sentence: {source_sentence}\")\n",
        "print(\"---\")\n",
        "print(f\"Compressed Question: {compressed_question}\")\n"
      ]
    },
    {
      "cell_type": "markdown",
      "id": "50011c1a-ff3a-4ecd-b715-c69db89905a8",
      "metadata": {
        "id": "50011c1a-ff3a-4ecd-b715-c69db89905a8"
      },
      "source": [
        "## 7. 自动数据集生成\n",
        "\n",
        "为了扩展数据集生成的过程，您需要迭代上下文的所有块，为每个块生成问题、答案、相关句子和演变，并将它们保存到 pandas 数据框。"
      ]
    },
    {
      "cell_type": "code",
      "execution_count": 56,
      "id": "d7198b44-886e-4538-a23d-d9c642c4632a",
      "metadata": {
        "id": "d7198b44-886e-4538-a23d-d9c642c4632a"
      },
      "outputs": [],
      "source": [
        "docs_subset = docs[:20] # for testing"
      ]
    },
    {
      "cell_type": "code",
      "execution_count": 57,
      "id": "33ac8015-3787-4d26-a024-3da2d2a189a4",
      "metadata": {
        "id": "33ac8015-3787-4d26-a024-3da2d2a189a4",
        "tags": []
      },
      "outputs": [],
      "source": [
        "from langchain_core.documents.base import Document\n",
        "\n",
        "def generate_qa_dataset_doc(doc: Document, llm, dataset, doc_number):\n",
        "    \"\"\"A function to create a test dataset of questions for a given Document(Langchain Document type)\n",
        "    Args:\n",
        "        doc: 一个 Langchain Document 类型的文档\n",
        "        llm: 一个 LLM 实例\n",
        "        dataset: 一个 pandas 数据框，用于存储生成的数据\n",
        "        doc_number: 当前文档的编号\n",
        "    \"\"\"\n",
        "\n",
        "    # generate the initial question for the RAG testdataset\n",
        "    question = generate_question(doc, llm)\n",
        "    dataset.at[doc_number, \"question\"] = question\n",
        "\n",
        "    # generate compressed  question to variate the dataset\n",
        "    compressed_question = compress_question(question)\n",
        "    dataset.at[doc_number, \"question_compressed\"] = compressed_question\n",
        "\n",
        "\n",
        "    answer = generate_answer(question, doc, llm)\n",
        "    dataset.at[doc_number, \"reference_answer\"] = answer\n",
        "\n",
        "    source_sentence = generate_source(question, doc, llm)\n",
        "    dataset.at[doc_number, \"source_sentence\"] = source_sentence\n",
        "\n",
        "    source_raw = doc\n",
        "    dataset.at[doc_number, \"source_raw\"] = source_raw.page_content\n",
        "\n",
        "    source_document = doc.metadata[\"source\"]\n",
        "    dataset.at[doc_number, \"source_document\"] = source_document\n",
        "\n",
        "\n",
        "    return dataset\n"
      ]
    },
    {
      "cell_type": "code",
      "execution_count": 58,
      "id": "f5c30fb8-aa99-4c6a-8c91-f449c89bb103",
      "metadata": {
        "id": "f5c30fb8-aa99-4c6a-8c91-f449c89bb103",
        "tags": []
      },
      "outputs": [],
      "source": [
        "# create a dataset class that in the end can be used to generate the dataset\n",
        "import pandas as pd\n",
        "import time\n",
        "\n",
        "dataset = pd.DataFrame(columns=[\"question\", \"question_compressed\", \"reference_answer\", \"source_sentence\",\"source_raw\",\"source_document\" ])"
      ]
    },
    {
      "cell_type": "code",
      "execution_count": 59,
      "id": "07c5d096-421d-4c06-bb03-2f57df9710c5",
      "metadata": {
        "id": "07c5d096-421d-4c06-bb03-2f57df9710c5",
        "tags": []
      },
      "outputs": [],
      "source": [
        "from langchain_core.documents.base import Document\n",
        "from tqdm import tqdm\n",
        "\n",
        "def generate_dataset(documents: Document,llm, dataset):\n",
        "\n",
        "    print(f\"start generating dataset from {len(documents)} docuements\")\n",
        "    print(\"---\")\n",
        "    generation_time_start = time.time()\n",
        "\n",
        "    for doc in tqdm(range(len(documents))):\n",
        "        q_generation_time_start = time.time()\n",
        "        dataset = generate_qa_dataset_doc(doc = documents[doc], llm = llm, dataset = dataset, doc_number = doc)\n",
        "        q_generation_time_end = time.time()\n",
        "        total_elapsed_time_generation = q_generation_time_end - q_generation_time_start\n",
        "\n",
        "\n",
        "        print(f\"Finished creating evaluation data for chunk {doc+1}\")\n",
        "        print(f\"Generation time for doc: {total_elapsed_time_generation}\")\n",
        "        print(\"---\")\n",
        "\n",
        "    generation_time_end = time.time()\n",
        "    total_elapsed_time= generation_time_end - generation_time_start\n",
        "    print(f\"Generation time for all docs: {total_elapsed_time}\")\n",
        "\n",
        "    return dataset"
      ]
    },
    {
      "cell_type": "code",
      "execution_count": 55,
      "id": "0661a4b3",
      "metadata": {},
      "outputs": [
        {
          "data": {
            "text/plain": [
              "Document(metadata={'source': '/root/app/langchain_data_gen/pdf/小米SU7用户手册.pdf', 'page': 0}, page_content='SU7 用户手册')"
            ]
          },
          "execution_count": 55,
          "metadata": {},
          "output_type": "execute_result"
        }
      ],
      "source": [
        "docs_subset[0]"
      ]
    },
    {
      "cell_type": "code",
      "execution_count": null,
      "id": "38ac63dc-b676-477b-8bc7-9aa750732f8b",
      "metadata": {
        "id": "38ac63dc-b676-477b-8bc7-9aa750732f8b",
        "tags": []
      },
      "outputs": [],
      "source": [
        "dataset_df = generate_dataset(docs_subset, llm, dataset)\n",
        "\n",
        "num_questions_generated = dataset_df.shape[0]\n",
        "print(f\"Generated a total of {num_questions_generated} questions.\")"
      ]
    },
    {
      "cell_type": "code",
      "execution_count": 61,
      "id": "56b80a38-1b5c-47a1-8e4c-a357f4d9dd8c",
      "metadata": {
        "id": "56b80a38-1b5c-47a1-8e4c-a357f4d9dd8c",
        "tags": []
      },
      "outputs": [
        {
          "data": {
            "text/html": [
              "<div>\n",
              "<style scoped>\n",
              "    .dataframe tbody tr th:only-of-type {\n",
              "        vertical-align: middle;\n",
              "    }\n",
              "\n",
              "    .dataframe tbody tr th {\n",
              "        vertical-align: top;\n",
              "    }\n",
              "\n",
              "    .dataframe thead th {\n",
              "        text-align: right;\n",
              "    }\n",
              "</style>\n",
              "<table border=\"1\" class=\"dataframe\">\n",
              "  <thead>\n",
              "    <tr style=\"text-align: right;\">\n",
              "      <th></th>\n",
              "      <th>question</th>\n",
              "      <th>question_compressed</th>\n",
              "      <th>reference_answer</th>\n",
              "      <th>source_sentence</th>\n",
              "      <th>source_raw</th>\n",
              "      <th>source_document</th>\n",
              "    </tr>\n",
              "  </thead>\n",
              "  <tbody>\n",
              "    <tr>\n",
              "      <th>0</th>\n",
              "      <td>小米SU7用户手册的来源是什么？</td>\n",
              "      <td>小米SU7用户手册来源？</td>\n",
              "      <td>小米SU7用户手册的来源是/root/app/langchain_data_gen/pdf/...</td>\n",
              "      <td>metadata={'source': '/root/app/langchain_data_...</td>\n",
              "      <td>SU7 用户手册</td>\n",
              "      <td>/root/app/langchain_data_gen/pdf/小米SU7用户手册.pdf</td>\n",
              "    </tr>\n",
              "    <tr>\n",
              "      <th>1</th>\n",
              "      <td>如何查阅小米汽车SU7的《用户手册》？</td>\n",
              "      <td>小米SU7手册怎么查？?</td>\n",
              "      <td>您可以通过以下方式查阅小米汽车SU7的《用户手册》：\\n• 登录小米汽车官网。\\n• 登录手...</td>\n",
              "      <td>您可以通过以下方式查阅 SU7《用户手册》：\\n• 登录小米汽车官网。\\n• 登录手机端小米...</td>\n",
              "      <td>导言 \\n前言\\n敬告用户\\n尊敬的用户，感谢您选择小米汽车 SU7 车型（以下简称“SU7...</td>\n",
              "      <td>/root/app/langchain_data_gen/pdf/小米SU7用户手册.pdf</td>\n",
              "    </tr>\n",
              "    <tr>\n",
              "      <th>2</th>\n",
              "      <td>小米汽车客服热线是多少？</td>\n",
              "      <td>小米客服电话？</td>\n",
              "      <td>400-182-6888</td>\n",
              "      <td>若您对本手册有任何问题、意见或建议，请致电小米汽车客服热线 400-182-6888。</td>\n",
              "      <td>可任何第三方实施、更改上述权利，您亦不能修改、复制、复印、提取、重新发布、转载、\\n翻译本手...</td>\n",
              "      <td>/root/app/langchain_data_gen/pdf/小米SU7用户手册.pdf</td>\n",
              "    </tr>\n",
              "    <tr>\n",
              "      <th>3</th>\n",
              "      <td>手册中“危险”标识的含义是什么？</td>\n",
              "      <td>手册中“危险”标识的含义？</td>\n",
              "      <td>如未按照该危险标识内容操作可能会直接造成车辆损毁或人身伤亡。</td>\n",
              "      <td>如未按照该危险标识内容操作可能会直接造成车辆损毁或人身伤亡。</td>\n",
              "      <td>本手册中带“*”的描述仅适用于部分配置的车型，您的车辆可能未配备这些功能，请以实车\\n为准。...</td>\n",
              "      <td>/root/app/langchain_data_gen/pdf/小米SU7用户手册.pdf</td>\n",
              "    </tr>\n",
              "    <tr>\n",
              "      <th>4</th>\n",
              "      <td>驾驶车辆时应注意哪些行为以防止事故发生？</td>\n",
              "      <td>驾驶时如何避免事故？?</td>\n",
              "      <td>驾驶车辆时应注意以下行为以防止事故发生：\\n1. 保持清醒的驾驶状态，切勿在饮酒或服用具有镇...</td>\n",
              "      <td>• 保持清醒的驾驶状态，切勿在饮酒或服用具有镇静、嗜睡、疲倦、头痛、视力模糊等副\\n作用的药...</td>\n",
              "      <td>注意:\\n如未按照该注意事项操作可能会导致车辆相关功能无法使用，严重时造成车辆损坏。\\n说明...</td>\n",
              "      <td>/root/app/langchain_data_gen/pdf/小米SU7用户手册.pdf</td>\n",
              "    </tr>\n",
              "  </tbody>\n",
              "</table>\n",
              "</div>"
            ],
            "text/plain": [
              "               question question_compressed  \\\n",
              "0      小米SU7用户手册的来源是什么？        小米SU7用户手册来源？   \n",
              "1   如何查阅小米汽车SU7的《用户手册》？        小米SU7手册怎么查？?   \n",
              "2          小米汽车客服热线是多少？             小米客服电话？   \n",
              "3      手册中“危险”标识的含义是什么？       手册中“危险”标识的含义？   \n",
              "4  驾驶车辆时应注意哪些行为以防止事故发生？         驾驶时如何避免事故？?   \n",
              "\n",
              "                                    reference_answer  \\\n",
              "0  小米SU7用户手册的来源是/root/app/langchain_data_gen/pdf/...   \n",
              "1  您可以通过以下方式查阅小米汽车SU7的《用户手册》：\\n• 登录小米汽车官网。\\n• 登录手...   \n",
              "2                                       400-182-6888   \n",
              "3                     如未按照该危险标识内容操作可能会直接造成车辆损毁或人身伤亡。   \n",
              "4  驾驶车辆时应注意以下行为以防止事故发生：\\n1. 保持清醒的驾驶状态，切勿在饮酒或服用具有镇...   \n",
              "\n",
              "                                     source_sentence  \\\n",
              "0  metadata={'source': '/root/app/langchain_data_...   \n",
              "1  您可以通过以下方式查阅 SU7《用户手册》：\\n• 登录小米汽车官网。\\n• 登录手机端小米...   \n",
              "2        若您对本手册有任何问题、意见或建议，请致电小米汽车客服热线 400-182-6888。   \n",
              "3                     如未按照该危险标识内容操作可能会直接造成车辆损毁或人身伤亡。   \n",
              "4  • 保持清醒的驾驶状态，切勿在饮酒或服用具有镇静、嗜睡、疲倦、头痛、视力模糊等副\\n作用的药...   \n",
              "\n",
              "                                          source_raw  \\\n",
              "0                                           SU7 用户手册   \n",
              "1  导言 \\n前言\\n敬告用户\\n尊敬的用户，感谢您选择小米汽车 SU7 车型（以下简称“SU7...   \n",
              "2  可任何第三方实施、更改上述权利，您亦不能修改、复制、复印、提取、重新发布、转载、\\n翻译本手...   \n",
              "3  本手册中带“*”的描述仅适用于部分配置的车型，您的车辆可能未配备这些功能，请以实车\\n为准。...   \n",
              "4  注意:\\n如未按照该注意事项操作可能会导致车辆相关功能无法使用，严重时造成车辆损坏。\\n说明...   \n",
              "\n",
              "                                  source_document  \n",
              "0  /root/app/langchain_data_gen/pdf/小米SU7用户手册.pdf  \n",
              "1  /root/app/langchain_data_gen/pdf/小米SU7用户手册.pdf  \n",
              "2  /root/app/langchain_data_gen/pdf/小米SU7用户手册.pdf  \n",
              "3  /root/app/langchain_data_gen/pdf/小米SU7用户手册.pdf  \n",
              "4  /root/app/langchain_data_gen/pdf/小米SU7用户手册.pdf  "
            ]
          },
          "execution_count": 61,
          "metadata": {},
          "output_type": "execute_result"
        }
      ],
      "source": [
        "# display the first rows of the generated dataset\n",
        "dataset_df.head()"
      ]
    },
    {
      "cell_type": "code",
      "execution_count": 65,
      "id": "074349fb",
      "metadata": {},
      "outputs": [],
      "source": [
        "dataset_df.to_excel(\"dataset_df.xlsx\", index=False)"
      ]
    },
    {
      "cell_type": "markdown",
      "id": "5499b380-7680-40c5-a25e-34edfd0916f6",
      "metadata": {
        "id": "5499b380-7680-40c5-a25e-34edfd0916f6"
      },
      "source": [
        "## 8. 评估生成数据的质量\n",
        "\n",
        "**Relevance**\n",
        "\n",
        "相关性衡量问题对于特定领域或上下文的有用性和适用性。在财务和业务分析的背景下，相关性提示根据以下标准评估问题：\n",
        "\n",
        "- 这个问题与华尔街金融和商业分析师的工作直接相关吗？\n",
        "- 该问题是否解决了分析师可能遇到的实际问题或用例？\n",
        "- 问题是否清晰明确，避免含糊或模糊？\n",
        "- 该问题是否需要实质性答案来证明对金融主题的理解？\n",
        "- 回答这个问题是否会提供可应用于现实世界公司评估任务的见解或知识？\n",
        "\n",
        "相关性得分范围为 1 到 5，得分越高表示对财务和业务分析师的相关性和实用性越高。\n",
        "\n",
        "**Groundedness**\n",
        "\n",
        "Groundedness 衡量根据所提供的上下文或信息回答问题的程度。接地性提示根据以下标准评估问题：\n",
        "\n",
        "- 能否仅使用给定上下文中提供的信息来回答问题？\n",
        "- 上下文是否提供了回答问题所需的很少、部分、大量或全部信息？\n",
        "\n",
        "Groundedness 得分也从 1 到 5 不等，具有以下解释：\n",
        "\n",
        "- 根据给定的上下文根本无法回答这个问题。\n",
        "- 上下文提供了很少的相关信息来回答这个问题。\n",
        "- 上下文提供了一些相关信息来部分回答问题。\n",
        "- 上下文提供了大量信息来回答问题的大部分方面。\n",
        "- 上下文提供了完整、明确地回答问题所需的所有信息。\n",
        "\n"
      ]
    },
    {
      "cell_type": "code",
      "execution_count": 44,
      "id": "616a5af5-2e80-49df-b223-907729b1b707",
      "metadata": {
        "id": "616a5af5-2e80-49df-b223-907729b1b707",
        "tags": []
      },
      "outputs": [],
      "source": [
        "groundedness_check_prompt_template = PromptTemplate(\n",
        "    input_variables=[\"context\",\"question\"],\n",
        "    template=\"\"\"\n",
        "    <Instructions>\n",
        "    You will be given a context and a question related to that context.\n",
        "\n",
        "    Your task is to provide an evaluation of how well the given question can be answered using only the information provided in the context. Rate this on a scale from 1 to 5, where:\n",
        "\n",
        "    1 = The question cannot be answered at all based on the given context\n",
        "    2 = The context provides very little relevant information to answer the question\n",
        "    3 = The context provides some relevant information to partially answer the question\n",
        "    4 = The context provides substantial information to answer most aspects of the question\n",
        "    5 = The context provides all the information needed to fully and unambiguously answer the question\n",
        "\n",
        "    First, read through the provided context carefully:\n",
        "\n",
        "    <context>\n",
        "    {context}\n",
        "    </context>\n",
        "\n",
        "    Then read the question:\n",
        "\n",
        "    <question>\n",
        "    {question}\n",
        "    </question>\n",
        "\n",
        "    <rules>The evaluation should be in Chinese.</rules>\n",
        "         \n",
        "    Evaluate how well you think the question can be answered using only the context information. Provide your reasoning first in an <evaluation> section, explaining what relevant or missing information from the context led you to your evaluation score in only one sentence.\n",
        "\n",
        "    Provide your evaluation in the following format:\n",
        "\n",
        "    <rating>(Your rating from 1 to 5)</rating>\n",
        "    \n",
        "    <evaluation>(Your evaluation and reasoning for the rating)</evaluation>\n",
        "    \n",
        "    </Instructions>\n",
        "\n",
        "    \"\"\")\n",
        "\n",
        "relevance_check_prompt_template = PromptTemplate(\n",
        "    input_variables=[\"question\"],\n",
        "    template=\"\"\"\n",
        "    <Instructions>\n",
        "    You will be given a question related to 小米SU7用户手册. Your task is to evaluate how useful this question would be for a customer who is interested in 小米SU7.\n",
        "\n",
        "    To evaluate the usefulness of the question, consider the following criteria:\n",
        "\n",
        "    1. Relevance: Is the question directly relevant to your work? Questions that are too broad or unrelated to this domain should receive a lower rating.\n",
        "\n",
        "    2. Practicality: Does the question address a practical problem or use case that analysts might encounter? Theoretical or overly academic questions may be less useful.\n",
        "\n",
        "    3. Clarity: Is the question clear and well-defined? Ambiguous or vague questions are less useful.\n",
        "\n",
        "    4. Depth: Does the question require a substantive answer that demonstrates understanding of financial topics? Surface-level questions may be less useful.\n",
        "\n",
        "    5. Applicability: Would answering this question provide insights or knowledge that could be applied to real-world company evaluation tasks? Questions with limited applicability should receive a lower rating.\n",
        "\n",
        "    <rules>The evaluation should be in Chinese.</rules>\n",
        "\n",
        "    Provide your evaluation in the following format:\n",
        "\n",
        "    <rating>(Your rating from 1 to 5)</rating>\n",
        "\n",
        "    <evaluation>(Your evaluation and reasoning for the rating)</evaluation>\n",
        "\n",
        "    Here is an example:\n",
        "    <evaluation>The question is very relevant to the persona because it asks about financial information of a company</evaluation>\n",
        "    <rating>5</rating>\n",
        "\n",
        "    Here is the question:\n",
        "\n",
        "    {question}\n",
        "    </Instructions>\n",
        "    \"\"\")"
      ]
    },
    {
      "cell_type": "code",
      "execution_count": 45,
      "id": "5d69431e-6b5a-46a6-8166-cbaf2fb6a663",
      "metadata": {
        "id": "5d69431e-6b5a-46a6-8166-cbaf2fb6a663",
        "tags": []
      },
      "outputs": [],
      "source": [
        "def generate_groundedness_check(question, source_raw):\n",
        "    # Pass in values to the input variables\n",
        "    groundedness_prompt = groundedness_check_prompt_template.format(question=question, context=source_raw)\n",
        "\n",
        "    groundedness_rating = llm.invoke(groundedness_prompt)\n",
        "\n",
        "    return groundedness_rating\n",
        "\n",
        "def generate_relevance_check(question):\n",
        "    # Pass in values to the input variables\n",
        "    relevance_prompt = relevance_check_prompt_template.format(question=question)\n",
        "\n",
        "    relevance_rating = llm.invoke(relevance_prompt)\n",
        "\n",
        "    return relevance_rating"
      ]
    },
    {
      "cell_type": "code",
      "execution_count": 46,
      "id": "941864ce-49c2-4800-aff5-203b24ee6816",
      "metadata": {
        "id": "941864ce-49c2-4800-aff5-203b24ee6816",
        "tags": []
      },
      "outputs": [
        {
          "name": "stdout",
          "output_type": "stream",
          "text": [
            "groundedness Score:\n",
            "<rating>2</rating>\n",
            "\n",
            "<evaluation>上下文仅提供了“SU7 用户手册”的标题，没有提供关于其来源的具体信息。</evaluation>\n",
            "---\n",
            "Relevance Score:\n",
            "<rating>3</rating>\n",
            "\n",
            "<evaluation>\n",
            "这个问题与小米SU7用户手册直接相关，因此具有一定的相关性。它询问用户手册的来源，这可能涉及到用户手册的编写背景或参考资料，对于理解用户手册的内容和可靠性有一定帮助。然而，这个问题相对简单，不需要深入的分析或解释，因此深度和实用性较低。总体来说，这个问题对于用户手册的初步了解是有用的，但不如更深入的问题有价值。\n",
            "</evaluation>\n"
          ]
        }
      ],
      "source": [
        "# Evaluating one of the generated questions for groundedness and relevance\n",
        "groundedness_rating = generate_groundedness_check(dataset_df.question[0], dataset_df.source_raw[0])\n",
        "relevance_rating = generate_relevance_check(dataset_df.question[0])\n",
        "\n",
        "print(\"groundedness Score:\")\n",
        "print(groundedness_rating)\n",
        "\n",
        "print(\"---\")\n",
        "\n",
        "print(\"Relevance Score:\")\n",
        "print(relevance_rating)\n"
      ]
    },
    {
      "cell_type": "code",
      "execution_count": 47,
      "id": "2e18dc75-4424-4112-b1dc-dca4dc3c41d9",
      "metadata": {
        "id": "2e18dc75-4424-4112-b1dc-dca4dc3c41d9",
        "tags": []
      },
      "outputs": [],
      "source": [
        "import re\n",
        "# Helper functions to extract values from the string response by the LLM Critique Agents.\n",
        "def extract_rating(text):\n",
        "    pattern = r'<rating>(.*?)</rating>'\n",
        "    match = re.search(pattern, text)\n",
        "    if match:\n",
        "        rating = match.group(1)\n",
        "        return rating\n",
        "    else:\n",
        "        return None\n",
        "\n",
        "def extract_reasoning(text):\n",
        "    pattern = r'<evaluation>(.*?)</evaluation>'\n",
        "    match = re.search(pattern, text)\n",
        "    if match:\n",
        "        rating = match.group(1)\n",
        "        return rating\n",
        "    else:\n",
        "        return None"
      ]
    },
    {
      "cell_type": "code",
      "execution_count": 48,
      "id": "374e2112",
      "metadata": {
        "id": "374e2112"
      },
      "outputs": [],
      "source": [
        "def evaluate_dataset(dataset):\n",
        "    for index, row in dataset.iterrows():\n",
        "\n",
        "        question = row['question']\n",
        "        source_raw = row['source_raw']\n",
        "\n",
        "        # Generate groundedness check\n",
        "        groundedness_check = generate_groundedness_check(question, source_raw)\n",
        "        groundedness_score = extract_rating(groundedness_check)\n",
        "        groundedness_score_reasoning = extract_reasoning(groundedness_check)\n",
        "\n",
        "        dataset.at[index, 'groundedness_score'] = groundedness_score\n",
        "        dataset.at[index, 'groundedness_score_reasoning'] = groundedness_score_reasoning\n",
        "\n",
        "        # Generate relevance check\n",
        "        relevance_check = generate_relevance_check(question)\n",
        "        relevancy_score = extract_rating(relevance_check)\n",
        "        relevancy_score_reasoning = extract_reasoning(relevance_check)\n",
        "\n",
        "        dataset.at[index, 'relevancy_score'] = relevancy_score\n",
        "        dataset.at[index, 'relevancy_score_reasoning'] = relevancy_score_reasoning\n",
        "\n",
        "    return dataset"
      ]
    },
    {
      "cell_type": "markdown",
      "id": "dcc1e46c",
      "metadata": {
        "id": "dcc1e46c"
      },
      "source": [
        "现在评估已经建立，包括对基础性和相关性分数的提示，迭代生成的数据集数据集并为每个问题分配一个分数。根据需要可以从数据集中消除分数低于特定阈值的问题。"
      ]
    },
    {
      "cell_type": "code",
      "execution_count": 49,
      "id": "ec660fbe",
      "metadata": {
        "id": "ec660fbe"
      },
      "outputs": [],
      "source": [
        "dataset_evaluated = evaluate_dataset(dataset_df)"
      ]
    },
    {
      "cell_type": "code",
      "execution_count": 50,
      "id": "07cd698d",
      "metadata": {
        "id": "07cd698d"
      },
      "outputs": [
        {
          "data": {
            "text/html": [
              "<div>\n",
              "<style scoped>\n",
              "    .dataframe tbody tr th:only-of-type {\n",
              "        vertical-align: middle;\n",
              "    }\n",
              "\n",
              "    .dataframe tbody tr th {\n",
              "        vertical-align: top;\n",
              "    }\n",
              "\n",
              "    .dataframe thead th {\n",
              "        text-align: right;\n",
              "    }\n",
              "</style>\n",
              "<table border=\"1\" class=\"dataframe\">\n",
              "  <thead>\n",
              "    <tr style=\"text-align: right;\">\n",
              "      <th></th>\n",
              "      <th>question</th>\n",
              "      <th>question_compressed</th>\n",
              "      <th>reference_answer</th>\n",
              "      <th>source_sentence</th>\n",
              "      <th>source_raw</th>\n",
              "      <th>source_document</th>\n",
              "      <th>groundedness_score</th>\n",
              "      <th>groundedness_score_reasoning</th>\n",
              "      <th>relevancy_score</th>\n",
              "      <th>relevancy_score_reasoning</th>\n",
              "    </tr>\n",
              "  </thead>\n",
              "  <tbody>\n",
              "    <tr>\n",
              "      <th>0</th>\n",
              "      <td>小米SU7用户手册的来源是什么？</td>\n",
              "      <td>小米SU7用户手册来源？</td>\n",
              "      <td>小米SU7用户手册的来源是/root/app/langchain_data_gen/pdf/...</td>\n",
              "      <td>metadata={'source': '/root/app/langchain_data_...</td>\n",
              "      <td>SU7 用户手册</td>\n",
              "      <td>/root/app/langchain_data_gen/pdf/小米SU7用户手册.pdf</td>\n",
              "      <td>2</td>\n",
              "      <td>上下文仅提供了“SU7 用户手册”这一信息，没有具体说明其来源，因此只能提供很少的相关信息来...</td>\n",
              "      <td>3</td>\n",
              "      <td>该问题询问小米SU7用户手册的来源，虽然与小米SU7相关，但并不是一个非常实用或深入的问题。...</td>\n",
              "    </tr>\n",
              "    <tr>\n",
              "      <th>1</th>\n",
              "      <td>如何查阅小米汽车SU7的《用户手册》？</td>\n",
              "      <td>小米SU7手册怎么查?</td>\n",
              "      <td>您可以通过以下方式查阅小米汽车SU7的《用户手册》：\\n• 登录小米汽车官网。\\n• 登录手...</td>\n",
              "      <td>您可以通过以下方式查阅 SU7《用户手册》：\\n• 登录小米汽车官网。\\n• 登录手机端小米...</td>\n",
              "      <td>导言 \\n前言\\n敬告用户\\n尊敬的用户，感谢您选择小米汽车 SU7 车型（以下简称“SU7...</td>\n",
              "      <td>/root/app/langchain_data_gen/pdf/小米SU7用户手册.pdf</td>\n",
              "      <td>5</td>\n",
              "      <td>上下文中明确提供了三种查阅小米汽车SU7《用户手册》的方式，信息完整且具体。</td>\n",
              "      <td>5</td>\n",
              "      <td>该问题非常相关，因为它直接涉及到小米SU7用户手册的查阅方法，这是潜在用户或现有车主可能会遇...</td>\n",
              "    </tr>\n",
              "    <tr>\n",
              "      <th>2</th>\n",
              "      <td>小米汽车客服热线号码是多少？</td>\n",
              "      <td>小米客服电话？</td>\n",
              "      <td>400-182-6888</td>\n",
              "      <td>若您对本手册有任何问题、意见或建议，请致电小米汽车客服热线 400-182-6888。</td>\n",
              "      <td>可任何第三方实施、更改上述权利，您亦不能修改、复制、复印、提取、重新发布、转载、\\n翻译本手...</td>\n",
              "      <td>/root/app/langchain_data_gen/pdf/小米SU7用户手册.pdf</td>\n",
              "      <td>5</td>\n",
              "      <td>上下文中明确提供了小米汽车客服热线号码为400-182-6888。</td>\n",
              "      <td>3</td>\n",
              "      <td>该问题与小米SU7用户手册有一定的相关性，因为它涉及到用户可能需要联系客服的情况。然而，这个...</td>\n",
              "    </tr>\n",
              "    <tr>\n",
              "      <th>3</th>\n",
              "      <td>手册中“危险”标识的含义是什么？</td>\n",
              "      <td>手册中“危险”标识的含义？</td>\n",
              "      <td>如未按照该危险标识内容操作可能会直接造成车辆损毁或人身伤亡。</td>\n",
              "      <td>危险:\\n如未按照该危险标识内容操作可能会直接造成车辆损毁或人身伤亡。</td>\n",
              "      <td>本手册中带“*”的描述仅适用于部分配置的车型，您的车辆可能未配备这些功能，请以实车\\n为准。...</td>\n",
              "      <td>/root/app/langchain_data_gen/pdf/小米SU7用户手册.pdf</td>\n",
              "      <td>5</td>\n",
              "      <td>手册中明确解释了“危险”标识的含义，即未按照该标识内容操作可能会直接造成车辆损毁或人身伤亡。</td>\n",
              "      <td>4</td>\n",
              "      <td>该问题直接关联到小米SU7用户手册中的内容，特别是关于“危险”标识的含义。对于用户来说，了解...</td>\n",
              "    </tr>\n",
              "    <tr>\n",
              "      <th>4</th>\n",
              "      <td>驾驶车辆时应注意哪些行为以防止事故发生？</td>\n",
              "      <td>驾驶时应注意哪些行为以避免事故？</td>\n",
              "      <td>驾驶车辆时应注意以下行为以防止事故发生：\\n1. 保持清醒的驾驶状态，切勿在饮酒或服用具有镇...</td>\n",
              "      <td>• 保持清醒的驾驶状态，切勿在饮酒或服用具有镇静、嗜睡、疲倦、头痛、视力模糊等副\\n作用的药...</td>\n",
              "      <td>注意:\\n如未按照该注意事项操作可能会导致车辆相关功能无法使用，严重时造成车辆损坏。\\n说明...</td>\n",
              "      <td>/root/app/langchain_data_gen/pdf/小米SU7用户手册.pdf</td>\n",
              "      <td>5</td>\n",
              "      <td>上下文中明确提到了驾驶车辆时应注意的行为，如保持清醒、遵守交通法规、避免分散注意力等，这些信...</td>\n",
              "      <td>4</td>\n",
              "      <td>这个问题与小米SU7用户手册直接相关，因为它涉及到驾驶安全，这是任何车辆用户手册中的重要部分...</td>\n",
              "    </tr>\n",
              "  </tbody>\n",
              "</table>\n",
              "</div>"
            ],
            "text/plain": [
              "               question question_compressed  \\\n",
              "0      小米SU7用户手册的来源是什么？        小米SU7用户手册来源？   \n",
              "1   如何查阅小米汽车SU7的《用户手册》？         小米SU7手册怎么查?   \n",
              "2        小米汽车客服热线号码是多少？             小米客服电话？   \n",
              "3      手册中“危险”标识的含义是什么？       手册中“危险”标识的含义？   \n",
              "4  驾驶车辆时应注意哪些行为以防止事故发生？    驾驶时应注意哪些行为以避免事故？   \n",
              "\n",
              "                                    reference_answer  \\\n",
              "0  小米SU7用户手册的来源是/root/app/langchain_data_gen/pdf/...   \n",
              "1  您可以通过以下方式查阅小米汽车SU7的《用户手册》：\\n• 登录小米汽车官网。\\n• 登录手...   \n",
              "2                                       400-182-6888   \n",
              "3                     如未按照该危险标识内容操作可能会直接造成车辆损毁或人身伤亡。   \n",
              "4  驾驶车辆时应注意以下行为以防止事故发生：\\n1. 保持清醒的驾驶状态，切勿在饮酒或服用具有镇...   \n",
              "\n",
              "                                     source_sentence  \\\n",
              "0  metadata={'source': '/root/app/langchain_data_...   \n",
              "1  您可以通过以下方式查阅 SU7《用户手册》：\\n• 登录小米汽车官网。\\n• 登录手机端小米...   \n",
              "2        若您对本手册有任何问题、意见或建议，请致电小米汽车客服热线 400-182-6888。   \n",
              "3                危险:\\n如未按照该危险标识内容操作可能会直接造成车辆损毁或人身伤亡。   \n",
              "4  • 保持清醒的驾驶状态，切勿在饮酒或服用具有镇静、嗜睡、疲倦、头痛、视力模糊等副\\n作用的药...   \n",
              "\n",
              "                                          source_raw  \\\n",
              "0                                           SU7 用户手册   \n",
              "1  导言 \\n前言\\n敬告用户\\n尊敬的用户，感谢您选择小米汽车 SU7 车型（以下简称“SU7...   \n",
              "2  可任何第三方实施、更改上述权利，您亦不能修改、复制、复印、提取、重新发布、转载、\\n翻译本手...   \n",
              "3  本手册中带“*”的描述仅适用于部分配置的车型，您的车辆可能未配备这些功能，请以实车\\n为准。...   \n",
              "4  注意:\\n如未按照该注意事项操作可能会导致车辆相关功能无法使用，严重时造成车辆损坏。\\n说明...   \n",
              "\n",
              "                                  source_document groundedness_score  \\\n",
              "0  /root/app/langchain_data_gen/pdf/小米SU7用户手册.pdf                  2   \n",
              "1  /root/app/langchain_data_gen/pdf/小米SU7用户手册.pdf                  5   \n",
              "2  /root/app/langchain_data_gen/pdf/小米SU7用户手册.pdf                  5   \n",
              "3  /root/app/langchain_data_gen/pdf/小米SU7用户手册.pdf                  5   \n",
              "4  /root/app/langchain_data_gen/pdf/小米SU7用户手册.pdf                  5   \n",
              "\n",
              "                        groundedness_score_reasoning relevancy_score  \\\n",
              "0  上下文仅提供了“SU7 用户手册”这一信息，没有具体说明其来源，因此只能提供很少的相关信息来...               3   \n",
              "1             上下文中明确提供了三种查阅小米汽车SU7《用户手册》的方式，信息完整且具体。               5   \n",
              "2                  上下文中明确提供了小米汽车客服热线号码为400-182-6888。               3   \n",
              "3     手册中明确解释了“危险”标识的含义，即未按照该标识内容操作可能会直接造成车辆损毁或人身伤亡。               4   \n",
              "4  上下文中明确提到了驾驶车辆时应注意的行为，如保持清醒、遵守交通法规、避免分散注意力等，这些信...               4   \n",
              "\n",
              "                           relevancy_score_reasoning  \n",
              "0  该问题询问小米SU7用户手册的来源，虽然与小米SU7相关，但并不是一个非常实用或深入的问题。...  \n",
              "1  该问题非常相关，因为它直接涉及到小米SU7用户手册的查阅方法，这是潜在用户或现有车主可能会遇...  \n",
              "2  该问题与小米SU7用户手册有一定的相关性，因为它涉及到用户可能需要联系客服的情况。然而，这个...  \n",
              "3  该问题直接关联到小米SU7用户手册中的内容，特别是关于“危险”标识的含义。对于用户来说，了解...  \n",
              "4  这个问题与小米SU7用户手册直接相关，因为它涉及到驾驶安全，这是任何车辆用户手册中的重要部分...  "
            ]
          },
          "execution_count": 50,
          "metadata": {},
          "output_type": "execute_result"
        }
      ],
      "source": [
        "dataset_evaluated.head()"
      ]
    }
  ],
  "metadata": {
    "availableInstances": [
      {
        "_defaultOrder": 0,
        "_isFastLaunch": true,
        "category": "General purpose",
        "gpuNum": 0,
        "hideHardwareSpecs": false,
        "memoryGiB": 4,
        "name": "ml.t3.medium",
        "vcpuNum": 2
      },
      {
        "_defaultOrder": 1,
        "_isFastLaunch": false,
        "category": "General purpose",
        "gpuNum": 0,
        "hideHardwareSpecs": false,
        "memoryGiB": 8,
        "name": "ml.t3.large",
        "vcpuNum": 2
      },
      {
        "_defaultOrder": 2,
        "_isFastLaunch": false,
        "category": "General purpose",
        "gpuNum": 0,
        "hideHardwareSpecs": false,
        "memoryGiB": 16,
        "name": "ml.t3.xlarge",
        "vcpuNum": 4
      },
      {
        "_defaultOrder": 3,
        "_isFastLaunch": false,
        "category": "General purpose",
        "gpuNum": 0,
        "hideHardwareSpecs": false,
        "memoryGiB": 32,
        "name": "ml.t3.2xlarge",
        "vcpuNum": 8
      },
      {
        "_defaultOrder": 4,
        "_isFastLaunch": true,
        "category": "General purpose",
        "gpuNum": 0,
        "hideHardwareSpecs": false,
        "memoryGiB": 8,
        "name": "ml.m5.large",
        "vcpuNum": 2
      },
      {
        "_defaultOrder": 5,
        "_isFastLaunch": false,
        "category": "General purpose",
        "gpuNum": 0,
        "hideHardwareSpecs": false,
        "memoryGiB": 16,
        "name": "ml.m5.xlarge",
        "vcpuNum": 4
      },
      {
        "_defaultOrder": 6,
        "_isFastLaunch": false,
        "category": "General purpose",
        "gpuNum": 0,
        "hideHardwareSpecs": false,
        "memoryGiB": 32,
        "name": "ml.m5.2xlarge",
        "vcpuNum": 8
      },
      {
        "_defaultOrder": 7,
        "_isFastLaunch": false,
        "category": "General purpose",
        "gpuNum": 0,
        "hideHardwareSpecs": false,
        "memoryGiB": 64,
        "name": "ml.m5.4xlarge",
        "vcpuNum": 16
      },
      {
        "_defaultOrder": 8,
        "_isFastLaunch": false,
        "category": "General purpose",
        "gpuNum": 0,
        "hideHardwareSpecs": false,
        "memoryGiB": 128,
        "name": "ml.m5.8xlarge",
        "vcpuNum": 32
      },
      {
        "_defaultOrder": 9,
        "_isFastLaunch": false,
        "category": "General purpose",
        "gpuNum": 0,
        "hideHardwareSpecs": false,
        "memoryGiB": 192,
        "name": "ml.m5.12xlarge",
        "vcpuNum": 48
      },
      {
        "_defaultOrder": 10,
        "_isFastLaunch": false,
        "category": "General purpose",
        "gpuNum": 0,
        "hideHardwareSpecs": false,
        "memoryGiB": 256,
        "name": "ml.m5.16xlarge",
        "vcpuNum": 64
      },
      {
        "_defaultOrder": 11,
        "_isFastLaunch": false,
        "category": "General purpose",
        "gpuNum": 0,
        "hideHardwareSpecs": false,
        "memoryGiB": 384,
        "name": "ml.m5.24xlarge",
        "vcpuNum": 96
      },
      {
        "_defaultOrder": 12,
        "_isFastLaunch": false,
        "category": "General purpose",
        "gpuNum": 0,
        "hideHardwareSpecs": false,
        "memoryGiB": 8,
        "name": "ml.m5d.large",
        "vcpuNum": 2
      },
      {
        "_defaultOrder": 13,
        "_isFastLaunch": false,
        "category": "General purpose",
        "gpuNum": 0,
        "hideHardwareSpecs": false,
        "memoryGiB": 16,
        "name": "ml.m5d.xlarge",
        "vcpuNum": 4
      },
      {
        "_defaultOrder": 14,
        "_isFastLaunch": false,
        "category": "General purpose",
        "gpuNum": 0,
        "hideHardwareSpecs": false,
        "memoryGiB": 32,
        "name": "ml.m5d.2xlarge",
        "vcpuNum": 8
      },
      {
        "_defaultOrder": 15,
        "_isFastLaunch": false,
        "category": "General purpose",
        "gpuNum": 0,
        "hideHardwareSpecs": false,
        "memoryGiB": 64,
        "name": "ml.m5d.4xlarge",
        "vcpuNum": 16
      },
      {
        "_defaultOrder": 16,
        "_isFastLaunch": false,
        "category": "General purpose",
        "gpuNum": 0,
        "hideHardwareSpecs": false,
        "memoryGiB": 128,
        "name": "ml.m5d.8xlarge",
        "vcpuNum": 32
      },
      {
        "_defaultOrder": 17,
        "_isFastLaunch": false,
        "category": "General purpose",
        "gpuNum": 0,
        "hideHardwareSpecs": false,
        "memoryGiB": 192,
        "name": "ml.m5d.12xlarge",
        "vcpuNum": 48
      },
      {
        "_defaultOrder": 18,
        "_isFastLaunch": false,
        "category": "General purpose",
        "gpuNum": 0,
        "hideHardwareSpecs": false,
        "memoryGiB": 256,
        "name": "ml.m5d.16xlarge",
        "vcpuNum": 64
      },
      {
        "_defaultOrder": 19,
        "_isFastLaunch": false,
        "category": "General purpose",
        "gpuNum": 0,
        "hideHardwareSpecs": false,
        "memoryGiB": 384,
        "name": "ml.m5d.24xlarge",
        "vcpuNum": 96
      },
      {
        "_defaultOrder": 20,
        "_isFastLaunch": false,
        "category": "General purpose",
        "gpuNum": 0,
        "hideHardwareSpecs": true,
        "memoryGiB": 0,
        "name": "ml.geospatial.interactive",
        "supportedImageNames": [
          "sagemaker-geospatial-v1-0"
        ],
        "vcpuNum": 0
      },
      {
        "_defaultOrder": 21,
        "_isFastLaunch": true,
        "category": "Compute optimized",
        "gpuNum": 0,
        "hideHardwareSpecs": false,
        "memoryGiB": 4,
        "name": "ml.c5.large",
        "vcpuNum": 2
      },
      {
        "_defaultOrder": 22,
        "_isFastLaunch": false,
        "category": "Compute optimized",
        "gpuNum": 0,
        "hideHardwareSpecs": false,
        "memoryGiB": 8,
        "name": "ml.c5.xlarge",
        "vcpuNum": 4
      },
      {
        "_defaultOrder": 23,
        "_isFastLaunch": false,
        "category": "Compute optimized",
        "gpuNum": 0,
        "hideHardwareSpecs": false,
        "memoryGiB": 16,
        "name": "ml.c5.2xlarge",
        "vcpuNum": 8
      },
      {
        "_defaultOrder": 24,
        "_isFastLaunch": false,
        "category": "Compute optimized",
        "gpuNum": 0,
        "hideHardwareSpecs": false,
        "memoryGiB": 32,
        "name": "ml.c5.4xlarge",
        "vcpuNum": 16
      },
      {
        "_defaultOrder": 25,
        "_isFastLaunch": false,
        "category": "Compute optimized",
        "gpuNum": 0,
        "hideHardwareSpecs": false,
        "memoryGiB": 72,
        "name": "ml.c5.9xlarge",
        "vcpuNum": 36
      },
      {
        "_defaultOrder": 26,
        "_isFastLaunch": false,
        "category": "Compute optimized",
        "gpuNum": 0,
        "hideHardwareSpecs": false,
        "memoryGiB": 96,
        "name": "ml.c5.12xlarge",
        "vcpuNum": 48
      },
      {
        "_defaultOrder": 27,
        "_isFastLaunch": false,
        "category": "Compute optimized",
        "gpuNum": 0,
        "hideHardwareSpecs": false,
        "memoryGiB": 144,
        "name": "ml.c5.18xlarge",
        "vcpuNum": 72
      },
      {
        "_defaultOrder": 28,
        "_isFastLaunch": false,
        "category": "Compute optimized",
        "gpuNum": 0,
        "hideHardwareSpecs": false,
        "memoryGiB": 192,
        "name": "ml.c5.24xlarge",
        "vcpuNum": 96
      },
      {
        "_defaultOrder": 29,
        "_isFastLaunch": true,
        "category": "Accelerated computing",
        "gpuNum": 1,
        "hideHardwareSpecs": false,
        "memoryGiB": 16,
        "name": "ml.g4dn.xlarge",
        "vcpuNum": 4
      },
      {
        "_defaultOrder": 30,
        "_isFastLaunch": false,
        "category": "Accelerated computing",
        "gpuNum": 1,
        "hideHardwareSpecs": false,
        "memoryGiB": 32,
        "name": "ml.g4dn.2xlarge",
        "vcpuNum": 8
      },
      {
        "_defaultOrder": 31,
        "_isFastLaunch": false,
        "category": "Accelerated computing",
        "gpuNum": 1,
        "hideHardwareSpecs": false,
        "memoryGiB": 64,
        "name": "ml.g4dn.4xlarge",
        "vcpuNum": 16
      },
      {
        "_defaultOrder": 32,
        "_isFastLaunch": false,
        "category": "Accelerated computing",
        "gpuNum": 1,
        "hideHardwareSpecs": false,
        "memoryGiB": 128,
        "name": "ml.g4dn.8xlarge",
        "vcpuNum": 32
      },
      {
        "_defaultOrder": 33,
        "_isFastLaunch": false,
        "category": "Accelerated computing",
        "gpuNum": 4,
        "hideHardwareSpecs": false,
        "memoryGiB": 192,
        "name": "ml.g4dn.12xlarge",
        "vcpuNum": 48
      },
      {
        "_defaultOrder": 34,
        "_isFastLaunch": false,
        "category": "Accelerated computing",
        "gpuNum": 1,
        "hideHardwareSpecs": false,
        "memoryGiB": 256,
        "name": "ml.g4dn.16xlarge",
        "vcpuNum": 64
      },
      {
        "_defaultOrder": 35,
        "_isFastLaunch": false,
        "category": "Accelerated computing",
        "gpuNum": 1,
        "hideHardwareSpecs": false,
        "memoryGiB": 61,
        "name": "ml.p3.2xlarge",
        "vcpuNum": 8
      },
      {
        "_defaultOrder": 36,
        "_isFastLaunch": false,
        "category": "Accelerated computing",
        "gpuNum": 4,
        "hideHardwareSpecs": false,
        "memoryGiB": 244,
        "name": "ml.p3.8xlarge",
        "vcpuNum": 32
      },
      {
        "_defaultOrder": 37,
        "_isFastLaunch": false,
        "category": "Accelerated computing",
        "gpuNum": 8,
        "hideHardwareSpecs": false,
        "memoryGiB": 488,
        "name": "ml.p3.16xlarge",
        "vcpuNum": 64
      },
      {
        "_defaultOrder": 38,
        "_isFastLaunch": false,
        "category": "Accelerated computing",
        "gpuNum": 8,
        "hideHardwareSpecs": false,
        "memoryGiB": 768,
        "name": "ml.p3dn.24xlarge",
        "vcpuNum": 96
      },
      {
        "_defaultOrder": 39,
        "_isFastLaunch": false,
        "category": "Memory Optimized",
        "gpuNum": 0,
        "hideHardwareSpecs": false,
        "memoryGiB": 16,
        "name": "ml.r5.large",
        "vcpuNum": 2
      },
      {
        "_defaultOrder": 40,
        "_isFastLaunch": false,
        "category": "Memory Optimized",
        "gpuNum": 0,
        "hideHardwareSpecs": false,
        "memoryGiB": 32,
        "name": "ml.r5.xlarge",
        "vcpuNum": 4
      },
      {
        "_defaultOrder": 41,
        "_isFastLaunch": false,
        "category": "Memory Optimized",
        "gpuNum": 0,
        "hideHardwareSpecs": false,
        "memoryGiB": 64,
        "name": "ml.r5.2xlarge",
        "vcpuNum": 8
      },
      {
        "_defaultOrder": 42,
        "_isFastLaunch": false,
        "category": "Memory Optimized",
        "gpuNum": 0,
        "hideHardwareSpecs": false,
        "memoryGiB": 128,
        "name": "ml.r5.4xlarge",
        "vcpuNum": 16
      },
      {
        "_defaultOrder": 43,
        "_isFastLaunch": false,
        "category": "Memory Optimized",
        "gpuNum": 0,
        "hideHardwareSpecs": false,
        "memoryGiB": 256,
        "name": "ml.r5.8xlarge",
        "vcpuNum": 32
      },
      {
        "_defaultOrder": 44,
        "_isFastLaunch": false,
        "category": "Memory Optimized",
        "gpuNum": 0,
        "hideHardwareSpecs": false,
        "memoryGiB": 384,
        "name": "ml.r5.12xlarge",
        "vcpuNum": 48
      },
      {
        "_defaultOrder": 45,
        "_isFastLaunch": false,
        "category": "Memory Optimized",
        "gpuNum": 0,
        "hideHardwareSpecs": false,
        "memoryGiB": 512,
        "name": "ml.r5.16xlarge",
        "vcpuNum": 64
      },
      {
        "_defaultOrder": 46,
        "_isFastLaunch": false,
        "category": "Memory Optimized",
        "gpuNum": 0,
        "hideHardwareSpecs": false,
        "memoryGiB": 768,
        "name": "ml.r5.24xlarge",
        "vcpuNum": 96
      },
      {
        "_defaultOrder": 47,
        "_isFastLaunch": false,
        "category": "Accelerated computing",
        "gpuNum": 1,
        "hideHardwareSpecs": false,
        "memoryGiB": 16,
        "name": "ml.g5.xlarge",
        "vcpuNum": 4
      },
      {
        "_defaultOrder": 48,
        "_isFastLaunch": false,
        "category": "Accelerated computing",
        "gpuNum": 1,
        "hideHardwareSpecs": false,
        "memoryGiB": 32,
        "name": "ml.g5.2xlarge",
        "vcpuNum": 8
      },
      {
        "_defaultOrder": 49,
        "_isFastLaunch": false,
        "category": "Accelerated computing",
        "gpuNum": 1,
        "hideHardwareSpecs": false,
        "memoryGiB": 64,
        "name": "ml.g5.4xlarge",
        "vcpuNum": 16
      },
      {
        "_defaultOrder": 50,
        "_isFastLaunch": false,
        "category": "Accelerated computing",
        "gpuNum": 1,
        "hideHardwareSpecs": false,
        "memoryGiB": 128,
        "name": "ml.g5.8xlarge",
        "vcpuNum": 32
      },
      {
        "_defaultOrder": 51,
        "_isFastLaunch": false,
        "category": "Accelerated computing",
        "gpuNum": 1,
        "hideHardwareSpecs": false,
        "memoryGiB": 256,
        "name": "ml.g5.16xlarge",
        "vcpuNum": 64
      },
      {
        "_defaultOrder": 52,
        "_isFastLaunch": false,
        "category": "Accelerated computing",
        "gpuNum": 4,
        "hideHardwareSpecs": false,
        "memoryGiB": 192,
        "name": "ml.g5.12xlarge",
        "vcpuNum": 48
      },
      {
        "_defaultOrder": 53,
        "_isFastLaunch": false,
        "category": "Accelerated computing",
        "gpuNum": 4,
        "hideHardwareSpecs": false,
        "memoryGiB": 384,
        "name": "ml.g5.24xlarge",
        "vcpuNum": 96
      },
      {
        "_defaultOrder": 54,
        "_isFastLaunch": false,
        "category": "Accelerated computing",
        "gpuNum": 8,
        "hideHardwareSpecs": false,
        "memoryGiB": 768,
        "name": "ml.g5.48xlarge",
        "vcpuNum": 192
      },
      {
        "_defaultOrder": 55,
        "_isFastLaunch": false,
        "category": "Accelerated computing",
        "gpuNum": 8,
        "hideHardwareSpecs": false,
        "memoryGiB": 1152,
        "name": "ml.p4d.24xlarge",
        "vcpuNum": 96
      },
      {
        "_defaultOrder": 56,
        "_isFastLaunch": false,
        "category": "Accelerated computing",
        "gpuNum": 8,
        "hideHardwareSpecs": false,
        "memoryGiB": 1152,
        "name": "ml.p4de.24xlarge",
        "vcpuNum": 96
      },
      {
        "_defaultOrder": 57,
        "_isFastLaunch": false,
        "category": "Accelerated computing",
        "gpuNum": 0,
        "hideHardwareSpecs": false,
        "memoryGiB": 32,
        "name": "ml.trn1.2xlarge",
        "vcpuNum": 8
      },
      {
        "_defaultOrder": 58,
        "_isFastLaunch": false,
        "category": "Accelerated computing",
        "gpuNum": 0,
        "hideHardwareSpecs": false,
        "memoryGiB": 512,
        "name": "ml.trn1.32xlarge",
        "vcpuNum": 128
      },
      {
        "_defaultOrder": 59,
        "_isFastLaunch": false,
        "category": "Accelerated computing",
        "gpuNum": 0,
        "hideHardwareSpecs": false,
        "memoryGiB": 512,
        "name": "ml.trn1n.32xlarge",
        "vcpuNum": 128
      }
    ],
    "colab": {
      "provenance": []
    },
    "instance_type": "ml.t3.medium",
    "kernelspec": {
      "display_name": "Python 3 (ipykernel)",
      "language": "python",
      "name": "python3"
    },
    "language_info": {
      "codemirror_mode": {
        "name": "ipython",
        "version": 3
      },
      "file_extension": ".py",
      "mimetype": "text/x-python",
      "name": "python",
      "nbconvert_exporter": "python",
      "pygments_lexer": "ipython3",
      "version": "3.10.15"
    }
  },
  "nbformat": 4,
  "nbformat_minor": 5
}
